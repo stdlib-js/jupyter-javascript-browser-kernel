{
 "cells": [
  {
   "cell_type": "code",
   "execution_count": 1,
   "metadata": {},
   "outputs": [
    {
     "data": {
      "text/plain": [
       "2"
      ]
     },
     "execution_count": 1,
     "metadata": {},
     "output_type": "execute_result"
    }
   ],
   "source": [
    "1+1"
   ]
  },
  {
   "cell_type": "code",
   "execution_count": 2,
   "metadata": {},
   "outputs": [],
   "source": [
    "var x = 1 + 1"
   ]
  },
  {
   "cell_type": "code",
   "execution_count": 3,
   "metadata": {},
   "outputs": [
    {
     "data": {
      "text/plain": [
       "2"
      ]
     },
     "execution_count": 3,
     "metadata": {},
     "output_type": "execute_result"
    }
   ],
   "source": [
    "x"
   ]
  },
  {
   "cell_type": "code",
   "execution_count": 4,
   "metadata": {},
   "outputs": [
    {
     "data": {
      "text/plain": [
       "beep"
      ]
     },
     "execution_count": 4,
     "metadata": {},
     "output_type": "execute_result"
    }
   ],
   "source": [
    "y = 'beep'"
   ]
  },
  {
   "cell_type": "code",
   "execution_count": 5,
   "metadata": {},
   "outputs": [
    {
     "data": {
      "text/plain": [
       "beep"
      ]
     },
     "execution_count": 5,
     "metadata": {},
     "output_type": "execute_result"
    }
   ],
   "source": [
    "y"
   ]
  },
  {
   "cell_type": "code",
   "execution_count": 6,
   "metadata": {},
   "outputs": [
    {
     "data": {
      "text/plain": [
       "0.0015926529164868282"
      ]
     },
     "execution_count": 6,
     "metadata": {},
     "output_type": "execute_result"
    }
   ],
   "source": [
    "base.sin( 3.14 )"
   ]
  },
  {
   "cell_type": "code",
   "execution_count": 7,
   "metadata": {},
   "outputs": [
    {
     "name": "stdout",
     "output_type": "stream",
     "text": [
      "\n",
      "ndarray( dtype, ndims[, options] )\n",
      "    Returns an ndarray constructor.\n",
      "\n",
      "    Parameters\n",
      "    ----------\n",
      "    dtype: string\n",
      "        Underlying data type.\n",
      "\n",
      "    ndims: integer\n",
      "        Number of dimensions.\n",
      "\n",
      "    options: Object (optional)\n",
      "        Options.\n",
      "\n",
      "    options.codegen: boolean (optional)\n",
      "        Boolean indicating whether to use code generation. Code generation can\n",
      "        boost performance, but may be problematic in browser contexts enforcing\n",
      "        a strict content security policy (CSP). Default: true.\n",
      "\n",
      "    options.mode: string (optional)\n",
      "        Specifies how to handle indices which exceed array dimensions. If equal\n",
      "        to 'throw', an ndarray instance throws an error when an index exceeds\n",
      "        array dimensions. If equal to 'wrap', an ndarray instance wraps around\n",
      "        indices exceeding array dimensions using modulo arithmetic. If equal to\n",
      "        'clamp', an ndarray instance sets an index exceeding array dimensions to\n",
      "        either `0` (minimum index) or the maximum index. Default: 'throw'.\n",
      "\n",
      "    options.submode: Array<string> (optional)\n",
      "        Specifies how to handle subscripts which exceed array dimensions. If a\n",
      "        mode for a corresponding dimension is equal to 'throw', an ndarray\n",
      "        instance throws an error when a subscript exceeds array dimensions. If\n",
      "        equal to 'wrap', an ndarray instance wraps around subscripts exceeding\n",
      "        array dimensions using modulo arithmetic. If equal to 'clamp', an\n",
      "        ndarray instance sets a subscript exceeding array dimensions to either\n",
      "        `0` (minimum index) or the maximum index. If the number of modes is\n",
      "        fewer than the number of dimensions, the function recycles modes using\n",
      "        modulo arithmetic. Default: [ options.mode ].\n",
      "\n",
      "    Returns\n",
      "    -------\n",
      "    ctor: Function\n",
      "        ndarray constructor.\n",
      "\n",
      "    ctor.BYTES_PER_ELEMENT: integer\n",
      "        Size (in bytes) of each array element (if known).\n",
      "\n",
      "    ctor.dtype: string\n",
      "        Underlying data type.\n",
      "\n",
      "    ctor.ndims: integer\n",
      "        Number of dimensions.\n",
      "\n",
      "    ctor.prototype.byteLength: integer\n",
      "        Size (in bytes) of the array (if known).\n",
      "\n",
      "    ctor.prototype.BYTES_PER_ELEMENT: integer\n",
      "        Size (in bytes) of each array element (if known).\n",
      "\n",
      "    ctor.prototype.data: ArrayLikeObject|TypedArray|Buffer\n",
      "        Pointer to the underlying data buffer.\n",
      "\n",
      "    ctor.prototype.dtype: string\n",
      "        Underlying data type.\n",
      "\n",
      "    ctor.prototype.flags: Object\n",
      "        Information about the memory layout of the array.\n",
      "\n",
      "    ctor.prototype.length: integer\n",
      "        Length of the array (i.e., number of elements).\n",
      "\n",
      "    ctor.prototype.ndims: integer\n",
      "        Number of dimensions.\n",
      "\n",
      "    ctor.prototype.offset: integer\n",
      "        Index offset which specifies the buffer index at which to start\n",
      "        iterating over array elements.\n",
      "\n",
      "    ctor.prototype.order: string\n",
      "        Array order. The array order is either row-major (C-style) or column-\n",
      "        major (Fortran-style).\n",
      "\n",
      "    ctor.prototype.shape: Array\n",
      "        Array shape.\n",
      "\n",
      "    ctor.prototype.strides: Array\n",
      "        Index strides which specify how to access data along corresponding array\n",
      "        dimensions.\n",
      "\n",
      "    ctor.prototype.get: Function\n",
      "        Returns an array element specified according to provided subscripts. The\n",
      "        number of provided subscripts should equal the number of dimensions.\n",
      "\n",
      "    ctor.prototype.iget: Function\n",
      "        Returns an array element located at a specified linear index.\n",
      "\n",
      "    ctor.prototype.set: Function\n",
      "        Sets an array element specified according to provided subscripts. The\n",
      "        number of provided subscripts should equal the number of dimensions.\n",
      "\n",
      "    ctor.prototype.iset: Function\n",
      "        Sets an array element located at a specified linear index.\n",
      "\n",
      "    ctor.prototype.toString: Function\n",
      "        Serializes an ndarray as a string. This method does **not** serialize\n",
      "        data outside of the buffer region defined by the array configuration.\n",
      "\n",
      "    ctor.prototype.toJSON: Function\n",
      "        Serializes an ndarray as a JSON object. This method does **not**\n",
      "        serialize data outside of the buffer region defined by the array\n",
      "        configuration.\n",
      "\n",
      "    Examples\n",
      "    --------\n",
      "    > var ctor = ndarray( 'generic', 2 )\n",
      "    <Function>\n",
      "\n",
      "    // To create a new instance...\n",
      "    > var b = [ 1.0, 2.0, 3.0, 4.0 ]; // underlying data buffer\n",
      "    > var d = [ 2, 2 ]; // shape\n",
      "    > var s = [ 2, 1 ]; // strides\n",
      "    > var o = 0; // index offset\n",
      "    > var arr = ctor( b, d, s, o, 'row-major' )\n",
      "    <ndarray>\n",
      "\n",
      "    // Get an element using subscripts:\n",
      "    > var v = arr.get( 1, 1 )\n",
      "    4.0\n",
      "\n",
      "    // Get an element using a linear index:\n",
      "    > v = arr.iget( 3 )\n",
      "    4.0\n",
      "\n",
      "    // Set an element using subscripts:\n",
      "    > arr.set( 1, 1, 40.0 );\n",
      "    > arr.get( 1, 1 )\n",
      "    40.0\n",
      "\n",
      "    // Set an element using a linear index:\n",
      "    > arr.iset( 3, 99.0 );\n",
      "    > arr.get( 1, 1 )\n",
      "    99.0\n",
      "\n",
      "    See Also\n",
      "    --------\n",
      "    array\n",
      "\n"
     ]
    }
   ],
   "source": [
    "help( 'ndarray' )"
   ]
  },
  {
   "cell_type": "code",
   "execution_count": 8,
   "metadata": {},
   "outputs": [
    {
     "data": {
      "text/plain": [
       "0,0.1111111111111111,0.2222222222222222,0.3333333333333333,0.4444444444444444,0.5555555555555556,0.6666666666666666,0.7777777777777777,0.8888888888888888,1"
      ]
     },
     "execution_count": 8,
     "metadata": {},
     "output_type": "execute_result"
    }
   ],
   "source": [
    "[...iterLinspace( 0, 1, 10 )]"
   ]
  },
  {
   "cell_type": "code",
   "execution_count": 9,
   "metadata": {},
   "outputs": [
    {
     "data": {
      "text/plain": [
       "0.7120970938796122,0.7280475304535852,0.10097335713015698,0.5153654522244483,0.8101616919379437,0.78630283013729,0.998577463339522,0.2373655534861856,0.03210704548995624,0.868003992732742"
      ]
     },
     "execution_count": 9,
     "metadata": {},
     "output_type": "execute_result"
    }
   ],
   "source": [
    "[...random.iterators.randu({'iter':10})]"
   ]
  },
  {
   "cell_type": "code",
   "execution_count": null,
   "metadata": {},
   "outputs": [],
   "source": []
  }
 ],
 "metadata": {
  "kernelspec": {
   "display_name": "JavaScript (in-browser)",
   "language": "javascript",
   "name": "jupyter-stdlib-browser-kernel"
  },
  "language_info": {
   "file_extension": ".js",
   "mimetype": "text/javascript",
   "name": "javascript"
  }
 },
 "nbformat": 4,
 "nbformat_minor": 2
}
